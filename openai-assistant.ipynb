{
 "cells": [
  {
   "cell_type": "code",
   "execution_count": 3,
   "metadata": {},
   "outputs": [],
   "source": [
    "import json\n",
    "import os \n",
    "\n",
    "def show_json(obj):\n",
    "    display(json.loads(obj.model_dump_json()))"
   ]
  },
  {
   "cell_type": "code",
   "execution_count": 9,
   "metadata": {},
   "outputs": [],
   "source": [
    "from openai import OpenAI\n",
    "client = OpenAI(api_key=\"sk-***\")"
   ]
  },
  {
   "cell_type": "code",
   "execution_count": 10,
   "metadata": {},
   "outputs": [],
   "source": [
    "assistant = client.beta.assistants.create(\n",
    "    name = \"Finance Insight Analyst\",\n",
    "    instructions = \"You are a helpful  financial analyst expert and your are tailored for in-depth SEC 10-Q filings analysis, focusing on management discussions and financial results.\",\n",
    "    tools = [{\"type\":\"code_interpreter\"}, {\"type\": \"retrieval\"}],\n",
    "    model = \"gpt-4-1106-preview\"\n",
    ")"
   ]
  },
  {
   "cell_type": "code",
   "execution_count": 11,
   "metadata": {},
   "outputs": [
    {
     "data": {
      "text/plain": [
       "{'id': 'asst_2xRfTAHL6ck2kZj9wVCGTMPF',\n",
       " 'created_at': 1702698563,\n",
       " 'description': None,\n",
       " 'file_ids': [],\n",
       " 'instructions': 'You are a helpful  financial analyst expert and your are tailored for in-depth SEC 10-Q filings analysis, focusing on management discussions and financial results.',\n",
       " 'metadata': {},\n",
       " 'model': 'gpt-4-1106-preview',\n",
       " 'name': 'Finance Insight Analyst',\n",
       " 'object': 'assistant',\n",
       " 'tools': [{'type': 'code_interpreter'}, {'type': 'retrieval'}]}"
      ]
     },
     "metadata": {},
     "output_type": "display_data"
    }
   ],
   "source": [
    "show_json(assistant)"
   ]
  },
  {
   "cell_type": "code",
   "execution_count": 12,
   "metadata": {},
   "outputs": [],
   "source": [
    "# FINANCE_ASSISTANT_ID = assistant.id  # or a hard-coded ID like \"asst-...\"\n",
    "FINANCE_ASSISTANT_ID = \"asst_2xRfTAHL6ck2kZj9wVCGTMPF\""
   ]
  },
  {
   "cell_type": "code",
   "execution_count": 16,
   "metadata": {},
   "outputs": [],
   "source": [
    "def submit_message(assistant_id, thread, user_message):\n",
    "    client.beta.threads.messages.create(\n",
    "        thread_id=thread.id, role=\"user\", content=user_message\n",
    "    )\n",
    "    return client.beta.threads.runs.create(\n",
    "        thread_id=thread.id,\n",
    "        assistant_id=assistant_id,\n",
    "    )\n",
    "\n",
    "\n",
    "import time\n",
    "# Waiting in a loop\n",
    "def wait_on_run(run, thread):\n",
    "    while run.status == \"queued\" or run.status == \"in_progress\":\n",
    "        run = client.beta.threads.runs.retrieve(\n",
    "            thread_id=thread.id,\n",
    "            run_id=run.id,\n",
    "        )\n",
    "        time.sleep(0.5)\n",
    "    return run\n",
    "\n",
    "def get_response(thread):\n",
    "    return client.beta.threads.messages.list(thread_id=thread.id, order=\"asc\")"
   ]
  },
  {
   "cell_type": "code",
   "execution_count": 17,
   "metadata": {},
   "outputs": [],
   "source": [
    "thread1 = client.beta.threads.create()"
   ]
  },
  {
   "cell_type": "code",
   "execution_count": 18,
   "metadata": {},
   "outputs": [],
   "source": [
    "# Pretty printing helper\n",
    "def pretty_print(messages):\n",
    "    print(\"# Messages\")\n",
    "    for m in messages:\n",
    "        print(f\"{m.role}: {m.content[0].text.value}\")\n",
    "    print()"
   ]
  },
  {
   "cell_type": "code",
   "execution_count": 19,
   "metadata": {},
   "outputs": [
    {
     "name": "stdout",
     "output_type": "stream",
     "text": [
      "# Messages\n",
      "user: What is SEC Q-10 filing?\n",
      "assistant: The SEC Form 10-Q is a comprehensive report of financial performance that must be submitted quarterly by all public companies to the Securities and Exchange Commission (SEC) in the United States. The 10-Q is generally shorter than the annual Form 10-K report and provides less detail, but it offers a continuous view of a company's financial position during the year.\n",
      "\n",
      "The Form 10-Q includes:\n",
      "\n",
      "1. Unaudited financial statements: These include the balance sheet, income statement, statement of cash flows, and statement of stockholders' equity. Although unaudited, the statements must conform to Generally Accepted Accounting Principles (GAAP) and provide insights into the company's financial health.\n",
      "\n",
      "2. Management's Discussion and Analysis of Financial Condition and Results of Operations (MD&A): Here the company’s management discusses the financial results and condition of the company, giving investors a narrative explanation of the operating results and liquidity. It can include discussions of revenue growth, margin pressure, changes in the cost structure, and any legal or regulatory issues the company may be facing.\n",
      "\n",
      "3. Quantitative and Qualitative Disclosures About Market Risk: This section provides analysis and disclosure related to financial market risks such as interest rate risk, foreign exchange risk, and market risk associated with investments.\n",
      "\n",
      "4. Disclosures Regarding Controls and Procedures: Companies must also disclose information about their internal control over financial reporting and other legal and regulatory controls.\n",
      "\n",
      "5. Other Relevant Information: This can include legal proceedings, risk factors, default on senior securities, submission of matters to a vote of security holders, and other company-specific information that can impact an investor's assessment of the company.\n",
      "\n",
      "The form must be filed with the SEC within 40 or 45 days of the close of the quarter, depending on the size of the company. The 10-Q is a public document, available to investors, which helps promote transparency and accountability in financial reporting. It can be used to track a company's performance throughout the year and to assess trends and the potential future financial position of the company.\n",
      "\n"
     ]
    }
   ],
   "source": [
    "run1 = submit_message(FINANCE_ASSISTANT_ID, thread1, \"What is SEC Q-10 filing?\")\n",
    "run1 = wait_on_run(run1, thread1)\n",
    "pretty_print(get_response(thread1))"
   ]
  },
  {
   "cell_type": "code",
   "execution_count": 20,
   "metadata": {},
   "outputs": [
    {
     "data": {
      "text/plain": [
       "{'id': 'asst_2xRfTAHL6ck2kZj9wVCGTMPF',\n",
       " 'created_at': 1702698563,\n",
       " 'description': None,\n",
       " 'file_ids': ['file-Dhh0y3AsgFxlwWEtvU2VAMi7'],\n",
       " 'instructions': 'You are a helpful  financial analyst expert and your are tailored for in-depth SEC 10-Q filings analysis, focusing on management discussions and financial results.',\n",
       " 'metadata': {},\n",
       " 'model': 'gpt-4-1106-preview',\n",
       " 'name': 'Finance Insight Analyst',\n",
       " 'object': 'assistant',\n",
       " 'tools': [{'type': 'code_interpreter'}, {'type': 'retrieval'}]}"
      ]
     },
     "metadata": {},
     "output_type": "display_data"
    }
   ],
   "source": [
    "# Upload the file\n",
    "file = client.files.create(\n",
    "    file=open(\n",
    "        \"Documents/tesla-q3.pdf\",\n",
    "        \"rb\",\n",
    "    ),\n",
    "    purpose=\"assistants\",\n",
    ")\n",
    "# Update Assistant\n",
    "assistant = client.beta.assistants.update(\n",
    "    FINANCE_ASSISTANT_ID,\n",
    "    file_ids=[file.id],\n",
    ")\n",
    "show_json(assistant)"
   ]
  },
  {
   "cell_type": "code",
   "execution_count": 21,
   "metadata": {},
   "outputs": [
    {
     "name": "stdout",
     "output_type": "stream",
     "text": [
      "# Messages\n",
      "user: Summarize the management discussion in this 10K filing and list key takeaways from this financial result\n",
      "assistant: The management discussion from NVIDIA's 10-Q filing provides a comprehensive view of their financial condition, recent developments, future objectives, challenges, and performance across specific segments. The document focuses on forward-looking statements, risks, and factors affecting performance, and it presents detailed financial results for the relevant fiscal periods. Here is a summarized analysis covering the key discussions and financial results:\n",
      "\n",
      "**Management Discussion:**\n",
      "1. **Company Overview**: NVIDIA, founded in 1993, is a pioneer in accelerated computing and invented the GPU in 1999, which has driven growth in PC gaming, modern AI, and digitalization across various markets.\n",
      "\n",
      "2. **Segments**: NVIDIA has two operating segments: \"Compute & Networking\" and \"Graphics\".\n",
      "\n",
      "3. **Financial Highlights**:\n",
      "   - Q3 Fiscal Year 2024 revenue was $18.12 billion, up 206% from the previous year.\n",
      "   - Data Center revenue was up 279% from the previous year due to strong demand for the NVIDIA HGX platform.\n",
      "   - Gaming revenue increased by 81% driven by high sell-in to partners following channel inventory normalization.\n",
      "   - Professional Visualization saw a 108% increase from the previous year largely due to stronger enterprise workstation demand and the ramp of notebook workstations.\n",
      "\n",
      "4. **Demand and Supply**:\n",
      "   - Demand for data center systems and products surged, with visibility extending into the next year.\n",
      "   - NVIDIA increased purchase obligations with suppliers to meet expected demand.\n",
      "\n",
      "5. **Product Transitions and New Products**:\n",
      "   - NVIDIA expects faster Data Center product launch cadence to meet diverse AI opportunities.\n",
      "   - Challenges include managing the supply and demand due to long manufacturing lead times and product qualification times.\n",
      "   - NVIDIA is building products for new use cases like the Omniverse platform and direct enterprise offers for AI services.\n",
      "\n",
      "6. **Global Trade**:\n",
      "   - New U.S. government licensing requirements affect exports to China, Russia, and certain regions—potentially impacting Data Center revenue, which historically contributed approximately 20-25% of that revenue.\n",
      "   - NVIDIA is working on regulation-compliant product solutions and may seek licenses where needed, though there is no assurance of approval.\n",
      "\n",
      "7. **Macroeconomic Factors**: Macroeconomic factors such as inflation, increased interest rates, and global supply chain constraints may impact NVIDIA's results, particularly product demand.\n",
      "\n",
      "8. **Israel Conflict**: A geopolitical conflict in and around Israel is being monitored for its impact on operations, with approximately 3,400 employees in the region.\n",
      "\n",
      "**Key Financial Results**:\n",
      "1. **Revenue**: Year-over-year increase of 206% to $18.12 billion in Q3 FY2024.\n",
      "2. **Gross Margin**: Improved to 74.0% in Q3 FY2024 from 53.6% in the previous year, driven by better product mix and lower net inventory provisions.\n",
      "3. **Operating Income**: Significant increase to $10.417 billion in Q3 FY2024.\n",
      "4. **Net Income**: Rose to $9.243 billion, with net income per diluted share of $3.71 in Q3 FY2024.\n",
      "5. **Segment Performance**:\n",
      "   - Compute & Networking revenue grew due to strong demand across data center needs.\n",
      "6. **Geographic Distribution**: Revenue from outside the United States accounted for 65% of Q3 FY2024 revenue.\n",
      "\n",
      "The overall takeaway from NVIDIA's financial results indicates substantive growth in revenue and substantial improvements in operating income and net income due to strong demand across its Compute & Networking and Graphics segments, despite facing external challenges from global trade issues and other macroeconomic factors【21†source】【27†source】【31†source】.\n",
      "\n"
     ]
    }
   ],
   "source": [
    "thread = client.beta.threads.create()\n",
    "run = submit_message(FINANCE_ASSISTANT_ID, thread, \"Summarize the management discussion in this 10K filing and list key takeaways from this financial result\")\n",
    "run = wait_on_run(run, thread)\n",
    "pretty_print(get_response(thread))"
   ]
  },
  {
   "cell_type": "code",
   "execution_count": 23,
   "metadata": {},
   "outputs": [
    {
     "name": "stdout",
     "output_type": "stream",
     "text": [
      "# Messages\n",
      "user: what are the risks related to acquisitionst\n",
      "assistant: Risks related to acquisitions as mentioned in the document are extensive and include but are not limited to:\n",
      "\n",
      "1. **Integrating Challenges**: Difficulty in integrating the technology systems, products, policies, processes or operations, and integrating and retaining the employees, including key personnel of the acquired business.\n",
      "\n",
      "2. **Financial Impact**: Assumption of liabilities and incurring expenses like amortization, impairment charges to goodwill, or write-downs of acquired assets.\n",
      "\n",
      "3. **Accounting and Reporting Integration**: Challenges in integrating accounting, forecasting, controls procedures, and aligning reporting cycles.\n",
      "\n",
      "4. **Operational Coordination**: Difficulties in coordinating and integrating operations, particularly in countries where the company does not already operate.\n",
      "\n",
      "5. **Regulatory Approvals and Impacts**: Potential stock price impacts, fines, fees, or reputation harm if the company is unable to obtain regulatory approval for an acquisition or is otherwise unable to close an acquisition.\n",
      "\n",
      "6. **Financing Acquisitions**: Issuance of debt to finance acquisitions, leading to increased debt, interest expenses, and compliance with covenants or other restrictions, and the potential for acquisitions to result in dilutive issuances of equity securities.\n",
      "\n",
      "7. **Performance-Based Consideration**: Variability of the amount and form of any performance-based consideration.\n",
      "\n",
      "8. **Economic and Industry Conditions**: Negative changes in general economic conditions in the regions or the industries in which the company or the target operates.\n",
      "\n",
      "9. **Cybersecurity Risks**: Exposure to additional cybersecurity risks and vulnerabilities.\n",
      "\n",
      "10. **Impact on Relationships**: Impairment of relationships with or loss of the company's or the target’s employees, vendors, and customers.\n",
      "\n",
      "11. **System Integration Issues**: When integrating acquisition target systems into the company's systems, challenges can arise including system integration delays, difficulties with electronic data interchange with key suppliers and customers, and the need for training and change management.\n",
      "\n",
      "12. **Due Diligence Failure**: Failure of due diligence processes to identify significant issues with the assets or company being acquired or invested in.\n",
      "\n",
      "13. **Impairment and Loss**: Investments in publicly traded companies can create volatility in results and potentially generate losses, and investments in private companies may not be successful, which could result in impairment or the loss of the investment.\n",
      "\n",
      "14. **Concentration Risks**: Industry sector concentration risks, where a decline in any one or multiple industry sectors could increase impairment losses. \n",
      "\n",
      "These risks highlight the complexity of acquisitions and the numerous factors that can affect the successful integration and realization of the anticipated benefits from such business strategies. The company also recognizes that future acquisitions may be more difficult, complex, or expensive, which could negatively impact its business and financial results.\n",
      "\n"
     ]
    }
   ],
   "source": [
    "thread2 = client.beta.threads.create()\n",
    "run2 = submit_message(FINANCE_ASSISTANT_ID, thread2, \"what are the risks related to acquisitionst\")\n",
    "run2 = wait_on_run(run2, thread2)\n",
    "pretty_print(get_response(thread2))"
   ]
  },
  {
   "cell_type": "code",
   "execution_count": 24,
   "metadata": {},
   "outputs": [],
   "source": [
    "run = submit_message(FINANCE_ASSISTANT_ID, thread, \"Can you extract the financial summary data et put it in CSV\")\n",
    "run = wait_on_run(run, thread)\n",
    "messages = get_response(thread)"
   ]
  },
  {
   "cell_type": "code",
   "execution_count": 25,
   "metadata": {},
   "outputs": [],
   "source": [
    "file_path = messages.data[-1].content[0].text.annotations[0].file_path.file_id\n",
    "\n",
    "file_name = client.files.with_raw_response.retrieve_content(file_path)\n",
    "output_file_name = \"data.csv\"\n",
    "with open(output_file_name, \"wb\") as file:\n",
    "    file.write(file_name.content)"
   ]
  },
  {
   "cell_type": "code",
   "execution_count": 26,
   "metadata": {},
   "outputs": [
    {
     "data": {
      "text/html": [
       "<div>\n",
       "<style scoped>\n",
       "    .dataframe tbody tr th:only-of-type {\n",
       "        vertical-align: middle;\n",
       "    }\n",
       "\n",
       "    .dataframe tbody tr th {\n",
       "        vertical-align: top;\n",
       "    }\n",
       "\n",
       "    .dataframe thead th {\n",
       "        text-align: right;\n",
       "    }\n",
       "</style>\n",
       "<table border=\"1\" class=\"dataframe\">\n",
       "  <thead>\n",
       "    <tr style=\"text-align: right;\">\n",
       "      <th></th>\n",
       "      <th>Three Months Ended</th>\n",
       "      <th>Revenue ($ in millions)</th>\n",
       "      <th>Gross Margin (%)</th>\n",
       "      <th>Operating Expenses ($ in millions)</th>\n",
       "      <th>Operating Income ($ in millions)</th>\n",
       "      <th>Net Income ($ in millions)</th>\n",
       "      <th>Net Income per Diluted Share ($)</th>\n",
       "      <th>Quarter-over-Quarter Change (%)</th>\n",
       "      <th>Year-over-Year Change (%)</th>\n",
       "    </tr>\n",
       "  </thead>\n",
       "  <tbody>\n",
       "    <tr>\n",
       "      <th>0</th>\n",
       "      <td>October 29, 2023</td>\n",
       "      <td>18120</td>\n",
       "      <td>74.0</td>\n",
       "      <td>2983</td>\n",
       "      <td>10417</td>\n",
       "      <td>9243</td>\n",
       "      <td>3.71</td>\n",
       "      <td>-</td>\n",
       "      <td>-</td>\n",
       "    </tr>\n",
       "    <tr>\n",
       "      <th>1</th>\n",
       "      <td>July 30, 2023</td>\n",
       "      <td>13507</td>\n",
       "      <td>70.1</td>\n",
       "      <td>2662</td>\n",
       "      <td>6800</td>\n",
       "      <td>6188</td>\n",
       "      <td>2.48</td>\n",
       "      <td>34</td>\n",
       "      <td>50</td>\n",
       "    </tr>\n",
       "    <tr>\n",
       "      <th>2</th>\n",
       "      <td>October 30, 2022</td>\n",
       "      <td>5931</td>\n",
       "      <td>53.6</td>\n",
       "      <td>2576</td>\n",
       "      <td>601</td>\n",
       "      <td>680</td>\n",
       "      <td>0.27</td>\n",
       "      <td>206</td>\n",
       "      <td>1274</td>\n",
       "    </tr>\n",
       "  </tbody>\n",
       "</table>\n",
       "</div>"
      ],
      "text/plain": [
       "  Three Months Ended  Revenue ($ in millions)  Gross Margin (%)  \\\n",
       "0   October 29, 2023                    18120              74.0   \n",
       "1      July 30, 2023                    13507              70.1   \n",
       "2   October 30, 2022                     5931              53.6   \n",
       "\n",
       "   Operating Expenses ($ in millions)  Operating Income ($ in millions)  \\\n",
       "0                                2983                             10417   \n",
       "1                                2662                              6800   \n",
       "2                                2576                               601   \n",
       "\n",
       "   Net Income ($ in millions)  Net Income per Diluted Share ($)  \\\n",
       "0                        9243                              3.71   \n",
       "1                        6188                              2.48   \n",
       "2                         680                              0.27   \n",
       "\n",
       "  Quarter-over-Quarter Change (%) Year-over-Year Change (%)  \n",
       "0                               -                         -  \n",
       "1                              34                        50  \n",
       "2                             206                      1274  "
      ]
     },
     "execution_count": 26,
     "metadata": {},
     "output_type": "execute_result"
    }
   ],
   "source": [
    "import pandas as pd\n",
    "df = pd.read_csv(\"data.csv\")\n",
    "df.head(12)"
   ]
  }
 ],
 "metadata": {
  "kernelspec": {
   "display_name": "Python 3",
   "language": "python",
   "name": "python3"
  },
  "language_info": {
   "codemirror_mode": {
    "name": "ipython",
    "version": 3
   },
   "file_extension": ".py",
   "mimetype": "text/x-python",
   "name": "python",
   "nbconvert_exporter": "python",
   "pygments_lexer": "ipython3",
   "version": "3.10.13"
  }
 },
 "nbformat": 4,
 "nbformat_minor": 2
}
